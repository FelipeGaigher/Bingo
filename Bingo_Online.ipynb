{
  "nbformat": 4,
  "nbformat_minor": 0,
  "metadata": {
    "colab": {
      "name": "Bingo Online.ipynb",
      "provenance": [],
      "collapsed_sections": [
        "ceL2KnlUURy5",
        "gfsm29gnXyzm"
      ],
      "authorship_tag": "ABX9TyMMbrg/IvBnt/yg8bI8FKOx",
      "include_colab_link": true
    },
    "kernelspec": {
      "name": "python3",
      "display_name": "Python 3"
    }
  },
  "cells": [
    {
      "cell_type": "markdown",
      "metadata": {
        "id": "view-in-github",
        "colab_type": "text"
      },
      "source": [
        "<a href=\"https://colab.research.google.com/github/FelipeGaigher/Bingo/blob/main/Bingo_Online.ipynb\" target=\"_parent\"><img src=\"https://colab.research.google.com/assets/colab-badge.svg\" alt=\"Open In Colab\"/></a>"
      ]
    },
    {
      "cell_type": "markdown",
      "metadata": {
        "id": "TJq7Fx7KyzE1"
      },
      "source": [
        "##Bingo Online em Hexadecimal."
      ]
    },
    {
      "cell_type": "markdown",
      "metadata": {
        "id": "ceL2KnlUURy5"
      },
      "source": [
        "### Desenvolvimento das funções.\n"
      ]
    },
    {
      "cell_type": "code",
      "metadata": {
        "id": "xBAIi9lmXEfO"
      },
      "source": [
        "# BIBLIOTECAS:\n",
        "import numpy\n",
        "from numpy.random import default_rng\n",
        "from random import randint\n",
        "import random\n",
        "import pandas"
      ],
      "execution_count": 3,
      "outputs": []
    },
    {
      "cell_type": "code",
      "metadata": {
        "id": "W8X2zmHVTaGH",
        "outputId": "2715adaa-cb0b-4d9f-fdb3-6a9ab29b436f",
        "colab": {
          "base_uri": "https://localhost:8080/",
          "height": 252
        }
      },
      "source": [
        "\"\"\"\n",
        "FUNÇÃO: Criar Cartela (4 x 4), com a seguintes características:\n",
        "1: Números Aleatórios: Intervalo entre [16, 159];\n",
        "2: Criar em Decimal (Base 10: 0, 1, 2, 3, 4, 5, 6, 7, 8 e 9)\n",
        "3: NÃO pode ter NÚMEROS REPETIDOS na cartela. Caso seja sorteado um número repetido,\n",
        "o sorteio deve ser refeito até sair um número que ainda não foi sorteado na partida.\n",
        "3: PARÂMETRO NOMINAL: Inserir (de forma OPCIONAL) o Nome do Jogador na Cartela.\n",
        "\"\"\"\n",
        "#Gerar cartela sem repetição:\n",
        "linha=4\n",
        "coluna=4\n",
        "\n",
        "def gerarCartela():\n",
        "  while True:\n",
        "    cartela = numpy.zeros((linha,coluna), dtype =int)\n",
        "    cartela[:,0] = numpy.random.randint(16, 160,linha, dtype=int)\n",
        "    cartela[:,1] = numpy.random.randint(16, 160,linha, dtype=int)\n",
        "    cartela[:,2] = numpy.random.randint(16, 160,linha, dtype=int)\n",
        "    cartela[:,3] = numpy.random.randint(16, 160,linha, dtype=int)\n",
        "    cartelaConcatenada = numpy.concatenate(cartela)\n",
        "    if len(cartelaConcatenada) == len(set(cartelaConcatenada)):\n",
        "        break\n",
        "  return cartela\n",
        "# Transformar para resultado da função\n",
        "cartelaSemRepeticao1 = gerarCartela()\n",
        "cartelaSemRepeticao2 = gerarCartela()\n",
        "cartelaSemRepeticao3 = gerarCartela()\n",
        "print(f'{cartelaSemRepeticao1}\\n\\n {cartelaSemRepeticao2}\\n\\n {cartelaSemRepeticao3}')"
      ],
      "execution_count": 5,
      "outputs": [
        {
          "output_type": "stream",
          "text": [
            "[[ 52  60 154 152]\n",
            " [ 44 101 126  93]\n",
            " [ 24  65  79 104]\n",
            " [ 70  59  87  91]]\n",
            "\n",
            " [[110 144 157 155]\n",
            " [139 150  68  35]\n",
            " [ 87 154  98 124]\n",
            " [116  53 120  52]]\n",
            "\n",
            " [[136 149 147  46]\n",
            " [131  93  28  23]\n",
            " [ 55  48  99  81]\n",
            " [ 82  90  87 113]]\n"
          ],
          "name": "stdout"
        }
      ]
    },
    {
      "cell_type": "code",
      "metadata": {
        "id": "8qoQtUn6U_G2",
        "outputId": "42bc8910-e04c-4542-ff23-19fc7f5ac1d7",
        "colab": {
          "base_uri": "https://localhost:8080/",
          "height": 67
        }
      },
      "source": [
        "# FUNÇÃO: Conversão Decimal-Hexadecimal ()\n",
        "#Cartela1\n",
        "def converteHex(cartelaSemRepeticao):\n",
        "    cartelaHex1 = []\n",
        "    for posicaoLinhas in range(4):\n",
        "        for posicaoColunas in range(4):\n",
        "            cartelaHex1.append((hex(cartelaSemRepeticao1[posicaoLinhas, posicaoColunas])[2:].upper()))\n",
        "        cartelaHex4x4 = [cartelaHex1[0:4], cartelaHex1[4:8], cartelaHex1[8:12], cartelaHex1[12:]]\n",
        "    return cartelaHex4x4\n",
        "cartelaHex1 = (converteHex(cartelaSemRepeticao1))\n",
        "print(cartelaHex1)\n",
        "\n",
        "#Cartela2\n",
        "def converteHex2(cartelaSemRepeticao):\n",
        "    cartelaHex2 = []\n",
        "    for posicaoLinhas in range(4):\n",
        "        for posicaoColunas in range(4):\n",
        "            cartelaHex2.append((hex(cartelaSemRepeticao2[posicaoLinhas, posicaoColunas])[2:].upper()))\n",
        "        cartelaHex4x4 = [cartelaHex2[0:4], cartelaHex2[4:8], cartelaHex2[8:12], cartelaHex2[12:]]\n",
        "    return cartelaHex4x4\n",
        "cartelaHex2 = (converteHex2(cartelaSemRepeticao1))\n",
        "print(cartelaHex2)\n",
        "\n",
        "#Cartela3\n",
        "def converteHex3(cartelaSemRepeticao):\n",
        "    cartelaHex3 = []\n",
        "    for posicaoLinhas in range(4):\n",
        "        for posicaoColunas in range(4):\n",
        "            cartelaHex3.append((hex(cartelaSemRepeticao3[posicaoLinhas, posicaoColunas])[2:].upper()))\n",
        "        cartelaHex4x4 = [cartelaHex3[0:4], cartelaHex3[4:8], cartelaHex3[8:12], cartelaHex3[12:]]\n",
        "    return cartelaHex4x4\n",
        "cartelaHex3 = (converteHex3(cartelaSemRepeticao1))\n",
        "print(cartelaHex3)\n"
      ],
      "execution_count": 6,
      "outputs": [
        {
          "output_type": "stream",
          "text": [
            "[['34', '3C', '9A', '98'], ['2C', '65', '7E', '5D'], ['18', '41', '4F', '68'], ['46', '3B', '57', '5B']]\n",
            "[['6E', '90', '9D', '9B'], ['8B', '96', '44', '23'], ['57', '9A', '62', '7C'], ['74', '35', '78', '34']]\n",
            "[['88', '95', '93', '2E'], ['83', '5D', '1C', '17'], ['37', '30', '63', '51'], ['52', '5A', '57', '71']]\n"
          ],
          "name": "stdout"
        }
      ]
    },
    {
      "cell_type": "code",
      "metadata": {
        "id": "xi6apL4ngAo7"
      },
      "source": [
        "#Criação de uma lista com valores das pedras sorteadas\n",
        "lista= [16,17,18,19,20,21,22,23,24,25,26,27,28,29,30,31,32,33,34,35,36,37,38,39,40,41,42,43,44,45,46,47,48,49,50,51,52,53,54,55,56,57,58,59,60,61,62,63,64,65,66,67,68,69,70,71,72,73,74,75,76,77,78,79,80,81,82,83,84,85,86,87,88,89,90,91,92,93,94,95,96,97,98,99,100,101,102,103,104,105,106,107,108,109,110,111,112,113,114,115,116,117,118,119,120,121,\n",
        "              122,123,124,125,126,127,128,129,130,131,132,133,134,135,136,137,138,139,140,141,142,143,144,145,146,147,148,149,150,151,152,153,154,155,156,157,158,159]\n",
        "vetorPedrasSorteadas = []"
      ],
      "execution_count": 7,
      "outputs": []
    },
    {
      "cell_type": "code",
      "metadata": {
        "id": "4wpvbHyyW-wv",
        "outputId": "757b316f-7b12-490d-d44d-df1d67b54533",
        "colab": {
          "base_uri": "https://localhost:8080/",
          "height": 84
        }
      },
      "source": [
        "# FUNÇÃO: Conferir Pedra\n",
        "#FUNÇÃO: Sortear uma (1) Pedra: RANDOM DECIMAL: [16, 159]\n",
        "def sorteioPedra(lista):\n",
        "  rng = default_rng()\n",
        "  listaPedra = rng.choice(range(0,len(lista)), replace = False)\n",
        "  index = 0\n",
        "  while (index < 1):\n",
        "    pedra = lista[listaPedra]\n",
        "    del(lista[listaPedra])\n",
        "    pedra\n",
        "    index += 1\n",
        "    vetorPedrasSorteadas.append(pedra)\n",
        "  return pedra\n",
        "pedraSorteada = sorteioPedra(lista)\n",
        "print(f'pedraSorteada: \\n{pedraSorteada}')\n",
        "# print(f'lista: \\n{lista}')\n",
        "print(f'Vetor da Pedra: {vetorPedrasSorteadas}')\n",
        "\n",
        "#Converter pedra sorteada em hexadecimal\n",
        "def converterHex(pedraSorteada):\n",
        "  pedraHex = hex(pedraSorteada)[2:].upper()\n",
        "  return pedraHex\n",
        "pedraHex = converterHex(pedraSorteada)\n",
        "print(pedraHex)"
      ],
      "execution_count": 10,
      "outputs": [
        {
          "output_type": "stream",
          "text": [
            "pedraSorteada: \n",
            "45\n",
            "Vetor da Pedra: [116, 77, 45]\n",
            "2D\n"
          ],
          "name": "stdout"
        }
      ]
    },
    {
      "cell_type": "code",
      "metadata": {
        "id": "y_KeLaUAXRtu",
        "outputId": "9f60bd74-187d-41c8-b485-d84c40d8e5d8",
        "colab": {
          "base_uri": "https://localhost:8080/",
          "height": 302
        }
      },
      "source": [
        "# FUNÇÃO: Exibir Cartela Hexadecimal: 4 x 4\n",
        "# FUNÇÃO: Exibir Cartela Hexadecimal: 4 x 4\n",
        "#FUNÇÕES DAS CARTELAS COM PANDAS:\n",
        "def cartelaPandas1():\n",
        "  cartelaPandas1 = cartelaHex1\n",
        "  cartelaPandas1 = pandas.DataFrame(cartelaPandas1, \n",
        "                      index=['Bingo Geek', '', '', ''], \n",
        "                      columns=['', '', '', ''])\n",
        "  return cartelaPandas1\n",
        "cartelaPandas1 = cartelaPandas1()\n",
        "cartelaPandas1\n",
        "\n",
        "def cartelaPandas2():\n",
        "  cartelaPandas2 = cartelaHex2\n",
        "  cartelaPandas2 = pandas.DataFrame(cartelaPandas2, \n",
        "                      index=['Bingo Geek', '', '', ''], \n",
        "                      columns=['', '', '', ''])\n",
        "  return cartelaPandas2\n",
        "cartelaPandas2 = cartelaPandas2()\n",
        "cartelaPandas2\n",
        "\n",
        "def cartelaPandas3():\n",
        "  cartelaPandas3 = cartelaHex3\n",
        "  cartelaPandas3 = pandas.DataFrame(cartelaPandas3, \n",
        "                      index=['Bingo Geek', '', '', ''], \n",
        "                      columns=['', '', '', ''])\n",
        "  return cartelaPandas3\n",
        "cartelaPandas3 = cartelaPandas3()\n",
        "cartelaPandas3\n",
        "\n",
        "print(f'{cartelaPandas1}\\n\\n {cartelaPandas2}\\n\\n {cartelaPandas3}')"
      ],
      "execution_count": 11,
      "outputs": [
        {
          "output_type": "stream",
          "text": [
            "                          \n",
            "Bingo Geek  34  3C  9A  98\n",
            "            2C  65  7E  5D\n",
            "            18  41  4F  68\n",
            "            46  3B  57  5B\n",
            "\n",
            "                           \n",
            "Bingo Geek  6E  90  9D  9B\n",
            "            8B  96  44  23\n",
            "            57  9A  62  7C\n",
            "            74  35  78  34\n",
            "\n",
            "                           \n",
            "Bingo Geek  88  95  93  2E\n",
            "            83  5D  1C  17\n",
            "            37  30  63  51\n",
            "            52  5A  57  71\n"
          ],
          "name": "stdout"
        }
      ]
    },
    {
      "cell_type": "code",
      "metadata": {
        "id": "QCIOKdHNg7qE"
      },
      "source": [
        "#Variavel de pontuação:\n",
        "ponto1 = []\n",
        "ponto2 = []\n",
        "ponto3 = []"
      ],
      "execution_count": 12,
      "outputs": []
    },
    {
      "cell_type": "code",
      "metadata": {
        "id": "lIEKZ8HDgers",
        "outputId": "8c11c816-a2fa-4411-9f59-74ce7e897e11",
        "colab": {
          "base_uri": "https://localhost:8080/",
          "height": 101
        }
      },
      "source": [
        "# FUNÇÃO: Exibir Pontuação\n",
        "\n",
        "pedraSorteada = sorteioPedra(lista)\n",
        "pedraHex = converterHex(pedraSorteada)\n",
        "print(pedraHex)\n",
        "\n",
        "print(f'Vetor da Pedra: {vetorPedrasSorteadas}')\n",
        "# FUNÇÃO: Exibir Pontuação\n",
        "def pontuacao1(pedraSorteada):\n",
        "  ponto = 0\n",
        "  listaPedra = pedraSorteada\n",
        "  for posl in range(4):\n",
        "        for posc in range(4):\n",
        "          if (listaPedra == cartelaSemRepeticao1[posl, posc]):\n",
        "            ponto += 1\n",
        "  ponto1.append(ponto)\n",
        "  return sum(ponto1)\n",
        "\n",
        "print('jogador1',pontuacao1(pedraSorteada))\n",
        "\n",
        "#Função: Pontuação2\n",
        "def pontuacao2(pedraSorteada):\n",
        "  ponto = 0\n",
        "  listaPedra = pedraSorteada\n",
        "  for posl in range(4):\n",
        "        for posc in range(4):\n",
        "          if (listaPedra == cartelaSemRepeticao2[posl, posc]):\n",
        "            ponto += 1\n",
        "  ponto2.append(ponto)\n",
        "  return sum(ponto2)\n",
        "print('jogador2',pontuacao2(pedraSorteada))\n",
        "\n",
        "# Pontuação3\n",
        "def pontuacao3(pedraSorteada):\n",
        "  ponto = 0\n",
        "  listaPedra = pedraSorteada\n",
        "  for posl in range(4):\n",
        "        for posc in range(4):\n",
        "          if (listaPedra == cartelaSemRepeticao3[posl, posc]):\n",
        "            ponto += 1\n",
        "  ponto3.append(ponto)\n",
        "  return sum(ponto3)\n",
        "\n",
        "print('jogador3',pontuacao3(pedraSorteada))"
      ],
      "execution_count": 23,
      "outputs": [
        {
          "output_type": "stream",
          "text": [
            "6B\n",
            "Vetor da Pedra: [116, 77, 45, 94, 40, 148, 21, 109, 64, 123, 151, 100, 55, 107]\n",
            "jogador1 0\n",
            "jogador2 0\n",
            "jogador3 1\n"
          ],
          "name": "stdout"
        }
      ]
    },
    {
      "cell_type": "code",
      "metadata": {
        "id": "9TqHqx3LXrE-",
        "outputId": "0dc37353-ba40-46e5-ce86-0a8684474113",
        "colab": {
          "base_uri": "https://localhost:8080/",
          "height": 118
        }
      },
      "source": [
        "# FUNÇÃO: Exibir Vencedor/Premiação\n",
        "# Premiação: R$ 100 - Cada pedra sorteada antes do Vencedor + R$ Maior Número (Decimal) da Cartela.\n",
        "\n",
        "def premiacao1(vetorPedrasSorteadas, cartelaSemRepeticao1):\n",
        "  valorMax1 = numpy.concatenate(cartelaSemRepeticao1)\n",
        "  print(max(valorMax1))\n",
        "  premio = 100 - len(vetorPedrasSorteadas) + max(valorMax1)\n",
        "  return premio\n",
        "print(premiacao1(vetorPedrasSorteadas, cartelaSemRepeticao1))\n",
        "def premiacao2(vetorPedrasSorteadas, cartelaSemRepeticao2):\n",
        "  valorMax2 = numpy.concatenate(cartelaSemRepeticao2)\n",
        "  print(max(valorMax2))\n",
        "  premio = 100 - len(vetorPedrasSorteadas) + max(valorMax2)\n",
        "  return premio\n",
        "print(premiacao2(vetorPedrasSorteadas, cartelaSemRepeticao2))\n",
        "def premiacao3(vetorPedrasSorteadas, cartelaSemRepeticao3):\n",
        "  valorMax3 = numpy.concatenate(cartelaSemRepeticao3)\n",
        "  print(max(valorMax3))\n",
        "  premio = 100 - len(vetorPedrasSorteadas) + max(valorMax3)\n",
        "  return premio\n",
        "print(premiacao3(vetorPedrasSorteadas, cartelaSemRepeticao3))"
      ],
      "execution_count": 24,
      "outputs": [
        {
          "output_type": "stream",
          "text": [
            "154\n",
            "240\n",
            "157\n",
            "243\n",
            "149\n",
            "235\n"
          ],
          "name": "stdout"
        }
      ]
    },
    {
      "cell_type": "markdown",
      "metadata": {
        "id": "gfsm29gnXyzm"
      },
      "source": [
        "## Desenvolvimento da interface do bingo:"
      ]
    },
    {
      "cell_type": "code",
      "metadata": {
        "id": "P_ajZK15X189"
      },
      "source": [
        "print('Bem vindo ao Bingo Hexadecimal - MENU')\n",
        "while True:\n",
        "    print('Aperte 1 para iniciar o bingo inserindo o nome dos jogadores.')\n",
        "    print('Aperte 2 para iniciar o bingo sem inserir nome dos jogadores.')\n",
        "    print('Aperte 0 para sair do programa.')\n",
        "    opcao = int(input(f'Digite sua opção:\\n'))\n",
        "    if opcao == 0:\n",
        "        print('Tchau, até mais.')\n",
        "        break\n",
        "    elif opcao != 1 and opcao != 2:\n",
        "        print('Dígito inválido, Repita a operação.\\n')\n",
        "    else:\n",
        "        if opcao == 1:\n",
        "            nomeJogador1 = str(input(f'Jogador 1 - Qual o seu nome? \\n '))\n",
        "            print(f'\\n Jogador 1 - {nomeJogador1}')\n",
        "            print(f'Sua cartela é:{cartelaPandas1}\\n')\n",
        "            \n",
        "            nomeJogador2 = str(input(f'Jogador 2 - Qual o seu nome? \\n '))\n",
        "            print(f'\\n Jogador 2 - {nomeJogador2}')\n",
        "            print(f'Sua cartela é:{cartelaPandas2}\\n')\n",
        "            \n",
        "            nomeJogador3 = str(input(f'Jogador 3 - Qual o seu nome? \\n '))\n",
        "            print(f'\\n Jogador 3 - {nomeJogador3}')\n",
        "            print(f'Sua cartela é:{cartelaPandas3}\\n')\n",
        "        elif opcao == 2:\n",
        "            print(f'\\n Jogador 1')\n",
        "            print(f'Sua cartela é:{cartelaPandas1}\\n')\n",
        "            \n",
        "            print(f'\\n Jogador 2')\n",
        "            print(f'Sua cartela é:{cartelaPandas2}\\n')\n",
        "            \n",
        "            print(f'\\n Jogador 3')\n",
        "            print(f'Sua cartela é:{cartelaPandas3}\\n')\n",
        "    while True:\n",
        "        print(f'Insira 1 para sortear uma pedra.')\n",
        "        print(f'Insira 2 para verificar a pontuação atual')\n",
        "        print(f'Aperte 0 para retornar ao MENU.')\n",
        "        opcao2 = int(input(f'Digite sua opção:\\n'))\n",
        "        \n",
        "        if opcao2 == 0:\n",
        "            print('Tchau, até mais.\\n')\n",
        "            break\n",
        "        elif opcao2 != 1 and opcao2 != 2 and opcao2 != 3:\n",
        "            print('Dígito inválido, repita a operação.\\n')\n",
        "        elif opcao2 == 1:\n",
        "            pedraSorteada = sorteioPedra(lista)\n",
        "            pedraHex = converterHex(pedraSorteada)\n",
        "            pontuacaoJogador1 = pontuacao1(pedraSorteada)\n",
        "            pontuacaoJogador2 = pontuacao2(pedraSorteada)\n",
        "            pontuacaoJogador3 = pontuacao3(pedraSorteada)\n",
        "            print(f'O número sorteado foi: {pedraHex}\\n')\n",
        "            if pontuacaoJogador1 == 16:\n",
        "                premio1 = premiacao1(vetorPedrasSorteadas, cartelaSemRepeticao1)\n",
        "                print(f'Parabéns Jogador 1 você é o Vencedor! ')\n",
        "                print(f'Sua premiação é de: R$ {premio1} Reais ')\n",
        "                break\n",
        "\n",
        "            elif pontuacaoJogador2 == 16:\n",
        "                premio2 = premiacao2(vetorPedrasSorteadas, cartelaSemRepeticao2)\n",
        "                print(f'Parabéns Jogador 2 você é o Vencedor! ')\n",
        "                print(f'Sua premiação é de: R$ {premio2} Reais')\n",
        "                break\n",
        "\n",
        "            elif pontuacaoJogador3 == 16:\n",
        "                premio3 = premiacao3(vetorPedrasSorteadas, cartelaSemRepeticao3)\n",
        "                print(f'Parabéns Jogador 3 você é o Vencedor! ')\n",
        "                print(f'Sua premiação é de: R$ {premio3} Reais ')\n",
        "                break    \n",
        "        elif opcao2 == 2: \n",
        "            print(f'\\nPONTUAÇÃO ATUAL: ')\n",
        "            print(f'jogador 1: {pontuacaoJogador1}')\n",
        "            print(f'jogador 2: {pontuacaoJogador2}')\n",
        "            print(f'jogador 3: {pontuacaoJogador3}\\n')\n",
        "            "
      ],
      "execution_count": null,
      "outputs": []
    }
  ]
}